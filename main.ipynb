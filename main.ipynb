{
 "cells": [
  {
   "cell_type": "markdown",
   "id": "8b1ab417",
   "metadata": {},
   "source": [
    "## COMP7404 - Computational Intelligence and Machine Learning; Instructor: \n",
    "## Will employee leave the company or not? – Comparison of Machine Learning Techniques"
   ]
  },
  {
   "cell_type": "markdown",
   "id": "95b6d98c",
   "metadata": {},
   "source": [
    "### 1. Installing Python packages\n",
    "\n",
    "Please make sure you have installed the following packages successfully. The version of sklearn and numpy should also be updated.\n",
    "Then run every block to import the packages."
   ]
  },
  {
   "cell_type": "code",
   "execution_count": 1,
   "id": "aa4cf882",
   "metadata": {},
   "outputs": [
    {
     "name": "stdout",
     "output_type": "stream",
     "text": [
      "Requirement already satisfied: deslib in c:\\users\\chant\\anaconda3\\lib\\site-packages (0.3.5)\n",
      "Requirement already satisfied: scikit-learn>=0.21.0 in c:\\users\\chant\\anaconda3\\lib\\site-packages (from deslib) (0.24.2)\n",
      "Requirement already satisfied: numpy>=1.17.0 in c:\\users\\chant\\anaconda3\\lib\\site-packages (from deslib) (1.20.3)\n",
      "Requirement already satisfied: scipy>=1.4.0 in c:\\users\\chant\\anaconda3\\lib\\site-packages (from deslib) (1.7.1)\n",
      "Requirement already satisfied: threadpoolctl>=2.0.0 in c:\\users\\chant\\anaconda3\\lib\\site-packages (from scikit-learn>=0.21.0->deslib) (2.2.0)\n",
      "Requirement already satisfied: joblib>=0.11 in c:\\users\\chant\\anaconda3\\lib\\site-packages (from scikit-learn>=0.21.0->deslib) (1.1.0)\n"
     ]
    }
   ],
   "source": [
    "!pip install deslib\n",
    "!pip install sklearn\n",
    "!pip install keras\n",
    "!pip install tensorflow\n",
    "!pip install matplotlib"
   ]
  },
  {
   "cell_type": "code",
   "execution_count": 1,
   "id": "55ecc124",
   "metadata": {},
   "outputs": [],
   "source": [
    "from sklearn.ensemble import AdaBoostClassifier, RandomForestClassifier, BaggingClassifier\n",
    "from sklearn.model_selection import train_test_split, GridSearchCV\n",
    "from sklearn.neural_network import MLPClassifier\n",
    "from sklearn.svm import SVC\n",
    "from sklearn.tree import DecisionTreeClassifier\n",
    "\n",
    "# Importing DS techniques\n",
    "from deslib.dcs.ola import OLA\n",
    "from deslib.dcs.rank import Rank\n",
    "from deslib.des.des_p import DESP\n",
    "from deslib.des.knora_e import KNORAE\n",
    "from deslib.des import METADES\n",
    "from deslib.static import StackedClassifier\n",
    "from deslib.util.datasets import make_P2"
   ]
  },
  {
   "cell_type": "code",
   "execution_count": 2,
   "id": "23cf01a1",
   "metadata": {},
   "outputs": [],
   "source": [
    "import pandas as pd\n",
    "import numpy as np\n",
    "from keras.utils.np_utils import to_categorical\n",
    "from keras import models\n",
    "from keras import layers\n",
    "from sklearn.preprocessing import OneHotEncoder,LabelEncoder, MinMaxScaler\n",
    "from sklearn.model_selection import train_test_split\n",
    "from sklearn.tree import DecisionTreeClassifier, export_graphviz, export_text, plot_tree\n",
    "from keras import losses\n",
    "from sklearn.metrics import accuracy_score, confusion_matrix, classification_report, ConfusionMatrixDisplay, recall_score, f1_score\n",
    "import matplotlib.pyplot as plt \n",
    "from sklearn.ensemble import RandomForestClassifier"
   ]
  },
  {
   "cell_type": "code",
   "execution_count": 3,
   "id": "f1522e8e",
   "metadata": {},
   "outputs": [],
   "source": [
    "#visualization\n",
    "from matplotlib.cm import get_cmap\n",
    "from matplotlib.ticker import FuncFormatter"
   ]
  },
  {
   "cell_type": "markdown",
   "id": "9f4637f4",
   "metadata": {},
   "source": [
    "### 2. Data Loading and Cleaning ( One hot encoding )\n",
    "\n",
    "Please make sure that all of these 3 csv files are PLACED IN THE SAME DIRECTORY of the main.ipynb's. Nothing special, you only need to run every block subsequently."
   ]
  },
  {
   "cell_type": "code",
   "execution_count": 4,
   "id": "7c32dc8e",
   "metadata": {},
   "outputs": [],
   "source": [
    "general_data = pd.read_csv('general_data.csv')\n",
    "employee_survey_data = pd.read_csv('employee_survey_data.csv')\n",
    "manager_survey_data = pd.read_csv('manager_survey_data.csv')"
   ]
  },
  {
   "cell_type": "code",
   "execution_count": 5,
   "id": "2b2418ec",
   "metadata": {},
   "outputs": [
    {
     "data": {
      "text/html": [
       "<div>\n",
       "<style scoped>\n",
       "    .dataframe tbody tr th:only-of-type {\n",
       "        vertical-align: middle;\n",
       "    }\n",
       "\n",
       "    .dataframe tbody tr th {\n",
       "        vertical-align: top;\n",
       "    }\n",
       "\n",
       "    .dataframe thead th {\n",
       "        text-align: right;\n",
       "    }\n",
       "</style>\n",
       "<table border=\"1\" class=\"dataframe\">\n",
       "  <thead>\n",
       "    <tr style=\"text-align: right;\">\n",
       "      <th></th>\n",
       "      <th>Age</th>\n",
       "      <th>Attrition</th>\n",
       "      <th>BusinessTravel</th>\n",
       "      <th>Department</th>\n",
       "      <th>DistanceFromHome</th>\n",
       "      <th>Education</th>\n",
       "      <th>EducationField</th>\n",
       "      <th>Gender</th>\n",
       "      <th>JobLevel</th>\n",
       "      <th>JobRole</th>\n",
       "      <th>...</th>\n",
       "      <th>TotalWorkingYears</th>\n",
       "      <th>TrainingTimesLastYear</th>\n",
       "      <th>YearsAtCompany</th>\n",
       "      <th>YearsSinceLastPromotion</th>\n",
       "      <th>YearsWithCurrManager</th>\n",
       "      <th>JobInvolvement</th>\n",
       "      <th>PerformanceRating</th>\n",
       "      <th>EnvironmentSatisfaction</th>\n",
       "      <th>JobSatisfaction</th>\n",
       "      <th>WorkLifeBalance</th>\n",
       "    </tr>\n",
       "  </thead>\n",
       "  <tbody>\n",
       "    <tr>\n",
       "      <th>0</th>\n",
       "      <td>51</td>\n",
       "      <td>No</td>\n",
       "      <td>Travel_Rarely</td>\n",
       "      <td>Sales</td>\n",
       "      <td>6</td>\n",
       "      <td>2</td>\n",
       "      <td>Life Sciences</td>\n",
       "      <td>Female</td>\n",
       "      <td>1</td>\n",
       "      <td>Healthcare Representative</td>\n",
       "      <td>...</td>\n",
       "      <td>1.0</td>\n",
       "      <td>6</td>\n",
       "      <td>1</td>\n",
       "      <td>0</td>\n",
       "      <td>0</td>\n",
       "      <td>3</td>\n",
       "      <td>3</td>\n",
       "      <td>3.0</td>\n",
       "      <td>4.0</td>\n",
       "      <td>2.0</td>\n",
       "    </tr>\n",
       "    <tr>\n",
       "      <th>1</th>\n",
       "      <td>31</td>\n",
       "      <td>Yes</td>\n",
       "      <td>Travel_Frequently</td>\n",
       "      <td>Research &amp; Development</td>\n",
       "      <td>10</td>\n",
       "      <td>1</td>\n",
       "      <td>Life Sciences</td>\n",
       "      <td>Female</td>\n",
       "      <td>1</td>\n",
       "      <td>Research Scientist</td>\n",
       "      <td>...</td>\n",
       "      <td>6.0</td>\n",
       "      <td>3</td>\n",
       "      <td>5</td>\n",
       "      <td>1</td>\n",
       "      <td>4</td>\n",
       "      <td>2</td>\n",
       "      <td>4</td>\n",
       "      <td>3.0</td>\n",
       "      <td>2.0</td>\n",
       "      <td>4.0</td>\n",
       "    </tr>\n",
       "    <tr>\n",
       "      <th>2</th>\n",
       "      <td>32</td>\n",
       "      <td>No</td>\n",
       "      <td>Travel_Frequently</td>\n",
       "      <td>Research &amp; Development</td>\n",
       "      <td>17</td>\n",
       "      <td>4</td>\n",
       "      <td>Other</td>\n",
       "      <td>Male</td>\n",
       "      <td>4</td>\n",
       "      <td>Sales Executive</td>\n",
       "      <td>...</td>\n",
       "      <td>5.0</td>\n",
       "      <td>2</td>\n",
       "      <td>5</td>\n",
       "      <td>0</td>\n",
       "      <td>3</td>\n",
       "      <td>3</td>\n",
       "      <td>3</td>\n",
       "      <td>2.0</td>\n",
       "      <td>2.0</td>\n",
       "      <td>1.0</td>\n",
       "    </tr>\n",
       "    <tr>\n",
       "      <th>3</th>\n",
       "      <td>38</td>\n",
       "      <td>No</td>\n",
       "      <td>Non-Travel</td>\n",
       "      <td>Research &amp; Development</td>\n",
       "      <td>2</td>\n",
       "      <td>5</td>\n",
       "      <td>Life Sciences</td>\n",
       "      <td>Male</td>\n",
       "      <td>3</td>\n",
       "      <td>Human Resources</td>\n",
       "      <td>...</td>\n",
       "      <td>13.0</td>\n",
       "      <td>5</td>\n",
       "      <td>8</td>\n",
       "      <td>7</td>\n",
       "      <td>5</td>\n",
       "      <td>2</td>\n",
       "      <td>3</td>\n",
       "      <td>4.0</td>\n",
       "      <td>4.0</td>\n",
       "      <td>3.0</td>\n",
       "    </tr>\n",
       "    <tr>\n",
       "      <th>4</th>\n",
       "      <td>32</td>\n",
       "      <td>No</td>\n",
       "      <td>Travel_Rarely</td>\n",
       "      <td>Research &amp; Development</td>\n",
       "      <td>10</td>\n",
       "      <td>1</td>\n",
       "      <td>Medical</td>\n",
       "      <td>Male</td>\n",
       "      <td>1</td>\n",
       "      <td>Sales Executive</td>\n",
       "      <td>...</td>\n",
       "      <td>9.0</td>\n",
       "      <td>2</td>\n",
       "      <td>6</td>\n",
       "      <td>0</td>\n",
       "      <td>4</td>\n",
       "      <td>3</td>\n",
       "      <td>3</td>\n",
       "      <td>4.0</td>\n",
       "      <td>1.0</td>\n",
       "      <td>3.0</td>\n",
       "    </tr>\n",
       "    <tr>\n",
       "      <th>...</th>\n",
       "      <td>...</td>\n",
       "      <td>...</td>\n",
       "      <td>...</td>\n",
       "      <td>...</td>\n",
       "      <td>...</td>\n",
       "      <td>...</td>\n",
       "      <td>...</td>\n",
       "      <td>...</td>\n",
       "      <td>...</td>\n",
       "      <td>...</td>\n",
       "      <td>...</td>\n",
       "      <td>...</td>\n",
       "      <td>...</td>\n",
       "      <td>...</td>\n",
       "      <td>...</td>\n",
       "      <td>...</td>\n",
       "      <td>...</td>\n",
       "      <td>...</td>\n",
       "      <td>...</td>\n",
       "      <td>...</td>\n",
       "      <td>...</td>\n",
       "    </tr>\n",
       "    <tr>\n",
       "      <th>4295</th>\n",
       "      <td>29</td>\n",
       "      <td>No</td>\n",
       "      <td>Travel_Rarely</td>\n",
       "      <td>Sales</td>\n",
       "      <td>4</td>\n",
       "      <td>3</td>\n",
       "      <td>Other</td>\n",
       "      <td>Female</td>\n",
       "      <td>2</td>\n",
       "      <td>Human Resources</td>\n",
       "      <td>...</td>\n",
       "      <td>6.0</td>\n",
       "      <td>2</td>\n",
       "      <td>6</td>\n",
       "      <td>1</td>\n",
       "      <td>5</td>\n",
       "      <td>2</td>\n",
       "      <td>3</td>\n",
       "      <td>3.0</td>\n",
       "      <td>4.0</td>\n",
       "      <td>3.0</td>\n",
       "    </tr>\n",
       "    <tr>\n",
       "      <th>4296</th>\n",
       "      <td>42</td>\n",
       "      <td>No</td>\n",
       "      <td>Travel_Rarely</td>\n",
       "      <td>Research &amp; Development</td>\n",
       "      <td>5</td>\n",
       "      <td>4</td>\n",
       "      <td>Medical</td>\n",
       "      <td>Female</td>\n",
       "      <td>1</td>\n",
       "      <td>Research Scientist</td>\n",
       "      <td>...</td>\n",
       "      <td>10.0</td>\n",
       "      <td>5</td>\n",
       "      <td>3</td>\n",
       "      <td>0</td>\n",
       "      <td>2</td>\n",
       "      <td>3</td>\n",
       "      <td>3</td>\n",
       "      <td>4.0</td>\n",
       "      <td>1.0</td>\n",
       "      <td>3.0</td>\n",
       "    </tr>\n",
       "    <tr>\n",
       "      <th>4297</th>\n",
       "      <td>29</td>\n",
       "      <td>No</td>\n",
       "      <td>Travel_Rarely</td>\n",
       "      <td>Research &amp; Development</td>\n",
       "      <td>2</td>\n",
       "      <td>4</td>\n",
       "      <td>Medical</td>\n",
       "      <td>Male</td>\n",
       "      <td>1</td>\n",
       "      <td>Laboratory Technician</td>\n",
       "      <td>...</td>\n",
       "      <td>10.0</td>\n",
       "      <td>2</td>\n",
       "      <td>3</td>\n",
       "      <td>0</td>\n",
       "      <td>2</td>\n",
       "      <td>2</td>\n",
       "      <td>3</td>\n",
       "      <td>4.0</td>\n",
       "      <td>4.0</td>\n",
       "      <td>3.0</td>\n",
       "    </tr>\n",
       "    <tr>\n",
       "      <th>4298</th>\n",
       "      <td>25</td>\n",
       "      <td>No</td>\n",
       "      <td>Travel_Rarely</td>\n",
       "      <td>Research &amp; Development</td>\n",
       "      <td>25</td>\n",
       "      <td>2</td>\n",
       "      <td>Life Sciences</td>\n",
       "      <td>Male</td>\n",
       "      <td>2</td>\n",
       "      <td>Sales Executive</td>\n",
       "      <td>...</td>\n",
       "      <td>5.0</td>\n",
       "      <td>4</td>\n",
       "      <td>4</td>\n",
       "      <td>1</td>\n",
       "      <td>2</td>\n",
       "      <td>3</td>\n",
       "      <td>4</td>\n",
       "      <td>1.0</td>\n",
       "      <td>3.0</td>\n",
       "      <td>3.0</td>\n",
       "    </tr>\n",
       "    <tr>\n",
       "      <th>4299</th>\n",
       "      <td>42</td>\n",
       "      <td>No</td>\n",
       "      <td>Travel_Rarely</td>\n",
       "      <td>Sales</td>\n",
       "      <td>18</td>\n",
       "      <td>2</td>\n",
       "      <td>Medical</td>\n",
       "      <td>Male</td>\n",
       "      <td>1</td>\n",
       "      <td>Laboratory Technician</td>\n",
       "      <td>...</td>\n",
       "      <td>10.0</td>\n",
       "      <td>2</td>\n",
       "      <td>9</td>\n",
       "      <td>7</td>\n",
       "      <td>8</td>\n",
       "      <td>2</td>\n",
       "      <td>3</td>\n",
       "      <td>4.0</td>\n",
       "      <td>1.0</td>\n",
       "      <td>3.0</td>\n",
       "    </tr>\n",
       "  </tbody>\n",
       "</table>\n",
       "<p>4300 rows × 27 columns</p>\n",
       "</div>"
      ],
      "text/plain": [
       "      Age Attrition     BusinessTravel              Department  \\\n",
       "0      51        No      Travel_Rarely                   Sales   \n",
       "1      31       Yes  Travel_Frequently  Research & Development   \n",
       "2      32        No  Travel_Frequently  Research & Development   \n",
       "3      38        No         Non-Travel  Research & Development   \n",
       "4      32        No      Travel_Rarely  Research & Development   \n",
       "...   ...       ...                ...                     ...   \n",
       "4295   29        No      Travel_Rarely                   Sales   \n",
       "4296   42        No      Travel_Rarely  Research & Development   \n",
       "4297   29        No      Travel_Rarely  Research & Development   \n",
       "4298   25        No      Travel_Rarely  Research & Development   \n",
       "4299   42        No      Travel_Rarely                   Sales   \n",
       "\n",
       "      DistanceFromHome  Education EducationField  Gender  JobLevel  \\\n",
       "0                    6          2  Life Sciences  Female         1   \n",
       "1                   10          1  Life Sciences  Female         1   \n",
       "2                   17          4          Other    Male         4   \n",
       "3                    2          5  Life Sciences    Male         3   \n",
       "4                   10          1        Medical    Male         1   \n",
       "...                ...        ...            ...     ...       ...   \n",
       "4295                 4          3          Other  Female         2   \n",
       "4296                 5          4        Medical  Female         1   \n",
       "4297                 2          4        Medical    Male         1   \n",
       "4298                25          2  Life Sciences    Male         2   \n",
       "4299                18          2        Medical    Male         1   \n",
       "\n",
       "                        JobRole  ... TotalWorkingYears  TrainingTimesLastYear  \\\n",
       "0     Healthcare Representative  ...               1.0                      6   \n",
       "1            Research Scientist  ...               6.0                      3   \n",
       "2               Sales Executive  ...               5.0                      2   \n",
       "3               Human Resources  ...              13.0                      5   \n",
       "4               Sales Executive  ...               9.0                      2   \n",
       "...                         ...  ...               ...                    ...   \n",
       "4295            Human Resources  ...               6.0                      2   \n",
       "4296         Research Scientist  ...              10.0                      5   \n",
       "4297      Laboratory Technician  ...              10.0                      2   \n",
       "4298            Sales Executive  ...               5.0                      4   \n",
       "4299      Laboratory Technician  ...              10.0                      2   \n",
       "\n",
       "      YearsAtCompany YearsSinceLastPromotion  YearsWithCurrManager  \\\n",
       "0                  1                       0                     0   \n",
       "1                  5                       1                     4   \n",
       "2                  5                       0                     3   \n",
       "3                  8                       7                     5   \n",
       "4                  6                       0                     4   \n",
       "...              ...                     ...                   ...   \n",
       "4295               6                       1                     5   \n",
       "4296               3                       0                     2   \n",
       "4297               3                       0                     2   \n",
       "4298               4                       1                     2   \n",
       "4299               9                       7                     8   \n",
       "\n",
       "      JobInvolvement  PerformanceRating  EnvironmentSatisfaction  \\\n",
       "0                  3                  3                      3.0   \n",
       "1                  2                  4                      3.0   \n",
       "2                  3                  3                      2.0   \n",
       "3                  2                  3                      4.0   \n",
       "4                  3                  3                      4.0   \n",
       "...              ...                ...                      ...   \n",
       "4295               2                  3                      3.0   \n",
       "4296               3                  3                      4.0   \n",
       "4297               2                  3                      4.0   \n",
       "4298               3                  4                      1.0   \n",
       "4299               2                  3                      4.0   \n",
       "\n",
       "      JobSatisfaction  WorkLifeBalance  \n",
       "0                 4.0              2.0  \n",
       "1                 2.0              4.0  \n",
       "2                 2.0              1.0  \n",
       "3                 4.0              3.0  \n",
       "4                 1.0              3.0  \n",
       "...               ...              ...  \n",
       "4295              4.0              3.0  \n",
       "4296              1.0              3.0  \n",
       "4297              4.0              3.0  \n",
       "4298              3.0              3.0  \n",
       "4299              1.0              3.0  \n",
       "\n",
       "[4300 rows x 27 columns]"
      ]
     },
     "execution_count": 5,
     "metadata": {},
     "output_type": "execute_result"
    }
   ],
   "source": [
    "data = pd.merge(general_data, manager_survey_data, on = 'EmployeeID')\n",
    "data = pd.merge(data, employee_survey_data, on = 'EmployeeID')\n",
    "data = data.dropna()  # Simply dropping nan\n",
    "data = data.drop(['EmployeeID','EmployeeCount'],axis = 1).reset_index(drop=True)\n",
    "data"
   ]
  },
  {
   "cell_type": "code",
   "execution_count": 6,
   "id": "b45e7c82",
   "metadata": {},
   "outputs": [
    {
     "data": {
      "text/html": [
       "<div>\n",
       "<style scoped>\n",
       "    .dataframe tbody tr th:only-of-type {\n",
       "        vertical-align: middle;\n",
       "    }\n",
       "\n",
       "    .dataframe tbody tr th {\n",
       "        vertical-align: top;\n",
       "    }\n",
       "\n",
       "    .dataframe thead th {\n",
       "        text-align: right;\n",
       "    }\n",
       "</style>\n",
       "<table border=\"1\" class=\"dataframe\">\n",
       "  <thead>\n",
       "    <tr style=\"text-align: right;\">\n",
       "      <th></th>\n",
       "      <th>Age</th>\n",
       "      <th>Attrition</th>\n",
       "      <th>DistanceFromHome</th>\n",
       "      <th>Education</th>\n",
       "      <th>JobLevel</th>\n",
       "      <th>MonthlyIncome</th>\n",
       "      <th>NumCompaniesWorked</th>\n",
       "      <th>PercentSalaryHike</th>\n",
       "      <th>StandardHours</th>\n",
       "      <th>StockOptionLevel</th>\n",
       "      <th>...</th>\n",
       "      <th>JobRole_Manager</th>\n",
       "      <th>JobRole_Manufacturing Director</th>\n",
       "      <th>JobRole_Research Director</th>\n",
       "      <th>JobRole_Research Scientist</th>\n",
       "      <th>JobRole_Sales Executive</th>\n",
       "      <th>JobRole_Sales Representative</th>\n",
       "      <th>MaritalStatus_Divorced</th>\n",
       "      <th>MaritalStatus_Married</th>\n",
       "      <th>MaritalStatus_Single</th>\n",
       "      <th>Over18_Y</th>\n",
       "    </tr>\n",
       "  </thead>\n",
       "  <tbody>\n",
       "    <tr>\n",
       "      <th>0</th>\n",
       "      <td>51</td>\n",
       "      <td>No</td>\n",
       "      <td>6</td>\n",
       "      <td>2</td>\n",
       "      <td>1</td>\n",
       "      <td>131160</td>\n",
       "      <td>1.0</td>\n",
       "      <td>11</td>\n",
       "      <td>8</td>\n",
       "      <td>0</td>\n",
       "      <td>...</td>\n",
       "      <td>0</td>\n",
       "      <td>0</td>\n",
       "      <td>0</td>\n",
       "      <td>0</td>\n",
       "      <td>0</td>\n",
       "      <td>0</td>\n",
       "      <td>0</td>\n",
       "      <td>1</td>\n",
       "      <td>0</td>\n",
       "      <td>1</td>\n",
       "    </tr>\n",
       "    <tr>\n",
       "      <th>1</th>\n",
       "      <td>31</td>\n",
       "      <td>Yes</td>\n",
       "      <td>10</td>\n",
       "      <td>1</td>\n",
       "      <td>1</td>\n",
       "      <td>41890</td>\n",
       "      <td>0.0</td>\n",
       "      <td>23</td>\n",
       "      <td>8</td>\n",
       "      <td>1</td>\n",
       "      <td>...</td>\n",
       "      <td>0</td>\n",
       "      <td>0</td>\n",
       "      <td>0</td>\n",
       "      <td>1</td>\n",
       "      <td>0</td>\n",
       "      <td>0</td>\n",
       "      <td>0</td>\n",
       "      <td>0</td>\n",
       "      <td>1</td>\n",
       "      <td>1</td>\n",
       "    </tr>\n",
       "    <tr>\n",
       "      <th>2</th>\n",
       "      <td>32</td>\n",
       "      <td>No</td>\n",
       "      <td>17</td>\n",
       "      <td>4</td>\n",
       "      <td>4</td>\n",
       "      <td>193280</td>\n",
       "      <td>1.0</td>\n",
       "      <td>15</td>\n",
       "      <td>8</td>\n",
       "      <td>3</td>\n",
       "      <td>...</td>\n",
       "      <td>0</td>\n",
       "      <td>0</td>\n",
       "      <td>0</td>\n",
       "      <td>0</td>\n",
       "      <td>1</td>\n",
       "      <td>0</td>\n",
       "      <td>0</td>\n",
       "      <td>1</td>\n",
       "      <td>0</td>\n",
       "      <td>1</td>\n",
       "    </tr>\n",
       "    <tr>\n",
       "      <th>3</th>\n",
       "      <td>38</td>\n",
       "      <td>No</td>\n",
       "      <td>2</td>\n",
       "      <td>5</td>\n",
       "      <td>3</td>\n",
       "      <td>83210</td>\n",
       "      <td>3.0</td>\n",
       "      <td>11</td>\n",
       "      <td>8</td>\n",
       "      <td>3</td>\n",
       "      <td>...</td>\n",
       "      <td>0</td>\n",
       "      <td>0</td>\n",
       "      <td>0</td>\n",
       "      <td>0</td>\n",
       "      <td>0</td>\n",
       "      <td>0</td>\n",
       "      <td>0</td>\n",
       "      <td>1</td>\n",
       "      <td>0</td>\n",
       "      <td>1</td>\n",
       "    </tr>\n",
       "    <tr>\n",
       "      <th>4</th>\n",
       "      <td>32</td>\n",
       "      <td>No</td>\n",
       "      <td>10</td>\n",
       "      <td>1</td>\n",
       "      <td>1</td>\n",
       "      <td>23420</td>\n",
       "      <td>4.0</td>\n",
       "      <td>12</td>\n",
       "      <td>8</td>\n",
       "      <td>2</td>\n",
       "      <td>...</td>\n",
       "      <td>0</td>\n",
       "      <td>0</td>\n",
       "      <td>0</td>\n",
       "      <td>0</td>\n",
       "      <td>1</td>\n",
       "      <td>0</td>\n",
       "      <td>0</td>\n",
       "      <td>0</td>\n",
       "      <td>1</td>\n",
       "      <td>1</td>\n",
       "    </tr>\n",
       "  </tbody>\n",
       "</table>\n",
       "<p>5 rows × 47 columns</p>\n",
       "</div>"
      ],
      "text/plain": [
       "   Age Attrition  DistanceFromHome  Education  JobLevel  MonthlyIncome  \\\n",
       "0   51        No                 6          2         1         131160   \n",
       "1   31       Yes                10          1         1          41890   \n",
       "2   32        No                17          4         4         193280   \n",
       "3   38        No                 2          5         3          83210   \n",
       "4   32        No                10          1         1          23420   \n",
       "\n",
       "   NumCompaniesWorked  PercentSalaryHike  StandardHours  StockOptionLevel  \\\n",
       "0                 1.0                 11              8                 0   \n",
       "1                 0.0                 23              8                 1   \n",
       "2                 1.0                 15              8                 3   \n",
       "3                 3.0                 11              8                 3   \n",
       "4                 4.0                 12              8                 2   \n",
       "\n",
       "   ...  JobRole_Manager  JobRole_Manufacturing Director  \\\n",
       "0  ...                0                               0   \n",
       "1  ...                0                               0   \n",
       "2  ...                0                               0   \n",
       "3  ...                0                               0   \n",
       "4  ...                0                               0   \n",
       "\n",
       "   JobRole_Research Director  JobRole_Research Scientist  \\\n",
       "0                          0                           0   \n",
       "1                          0                           1   \n",
       "2                          0                           0   \n",
       "3                          0                           0   \n",
       "4                          0                           0   \n",
       "\n",
       "   JobRole_Sales Executive  JobRole_Sales Representative  \\\n",
       "0                        0                             0   \n",
       "1                        0                             0   \n",
       "2                        1                             0   \n",
       "3                        0                             0   \n",
       "4                        1                             0   \n",
       "\n",
       "   MaritalStatus_Divorced  MaritalStatus_Married  MaritalStatus_Single  \\\n",
       "0                       0                      1                     0   \n",
       "1                       0                      0                     1   \n",
       "2                       0                      1                     0   \n",
       "3                       0                      1                     0   \n",
       "4                       0                      0                     1   \n",
       "\n",
       "   Over18_Y  \n",
       "0         1  \n",
       "1         1  \n",
       "2         1  \n",
       "3         1  \n",
       "4         1  \n",
       "\n",
       "[5 rows x 47 columns]"
      ]
     },
     "execution_count": 6,
     "metadata": {},
     "output_type": "execute_result"
    }
   ],
   "source": [
    "data_hot = pd.get_dummies(data, columns = ['BusinessTravel','Department','EducationField','Gender','JobRole','MaritalStatus','Over18'])\n",
    "data_hot.head() # one-hot-encoding for those with Dtype = 'object'"
   ]
  },
  {
   "cell_type": "markdown",
   "id": "3f51c2a2",
   "metadata": {},
   "source": [
    "### 3. Defining functions \n",
    "\n",
    "In this part, we define some functions that can be used later on. Make sure to run these blocks before moving on."
   ]
  },
  {
   "cell_type": "code",
   "execution_count": 7,
   "id": "83764f96",
   "metadata": {},
   "outputs": [],
   "source": [
    "def deslib_process(pool_classifiers, x_train, x_test, y_train, y_test, k=5,\n",
    "                   show_classification_report = False, show_confusion_matrix = False,\n",
    "                   plot_accuracy = False, plot_recall = False, plot_f1 = False):\n",
    "    \n",
    "    origin = pool_classifiers           # origin means not to use any technique in deslib \n",
    "    knora_e = KNORAE(pool_classifiers, k=k).fit(x_train, y_train.values.ravel())   # Transforming the pool_classifiers into DES estimators\n",
    "    desp = DESP(pool_classifiers, k=k).fit(x_train, y_train.values.ravel())\n",
    "    ola = OLA(pool_classifiers, k=k).fit(x_train, y_train.values.ravel())\n",
    "    rank = Rank(pool_classifiers, k=k).fit(x_train, y_train.values.ravel())\n",
    "    meta = METADES(pool_classifiers, k=k).fit(x_train, y_train.values.ravel())\n",
    "\n",
    "    y_test_predict_origin = origin.predict(x_test)\n",
    "    y_test_predict_knora_e = knora_e.predict(x_test)\n",
    "    y_test_predict_desp = desp.predict(x_test)\n",
    "    y_test_predict_ola = ola.predict(x_test)\n",
    "    y_test_predict_rank = rank.predict(x_test)\n",
    "    y_test_predict_meta = meta.predict(x_test)\n",
    "\n",
    "    pred_list = [y_test_predict_origin, y_test_predict_knora_e, y_test_predict_desp, y_test_predict_ola, y_test_predict_rank, y_test_predict_meta]\n",
    "    pred_list_name = ['ORIGIN', 'KNORAE', 'DESP', 'OLA ', 'Rank ', 'METADES']\n",
    "    accuracy_dic = {}; recall_dic = {}; f1_dic = {}\n",
    "    accuracy_list = []; recall_list = []; f1_list = []\n",
    "\n",
    "\n",
    "    for index in range(len(pred_list)):\n",
    "        accuracy_dic[pred_list_name[index]] = np.round(accuracy_score(y_test.reset_index(drop=True).values, pred_list[index]), 3)\n",
    "        recall_dic[pred_list_name[index]] = np.round(recall_score(y_test.reset_index(drop=True).values, pred_list[index],  pos_label = 'Yes'), 3)\n",
    "        f1_dic[pred_list_name[index]] = np.round(f1_score(y_test.reset_index(drop=True).values, pred_list[index],  pos_label = 'Yes'), 3)\n",
    "        \n",
    "        accuracy_list.append(np.round(accuracy_score(y_test.reset_index(drop=True).values, pred_list[index]), 3))\n",
    "        recall_list.append(np.round(recall_score(y_test.reset_index(drop=True).values, pred_list[index],  pos_label = 'Yes'), 3))\n",
    "        f1_list.append(np.round(f1_score(y_test.reset_index(drop=True).values, pred_list[index],  pos_label = 'Yes'), 3))\n",
    "        \n",
    "        \n",
    "    \n",
    "    if show_confusion_matrix == True:\n",
    "        for index in range(len(pred_list)):\n",
    "            print('The confusion matrix of {}: '.format(pred_list_name[index]), end = \"\")\n",
    "            ConfusionMatrixDisplay.from_predictions(y_test.reset_index(drop=True),pred_list[index])\n",
    "            plt.show()\n",
    "            \n",
    "    if show_classification_report == True:\n",
    "        for index in range(len(pred_list)):\n",
    "            print('The classification_report of {}: '.format(pred_list_name[index]))\n",
    "            print(classification_report(y_test.reset_index(drop=True), pred_list[index]))\n",
    "    \n",
    "    ###################### plot ######################################\n",
    "    cmap = get_cmap('Dark2')\n",
    "    n = len(pred_list)\n",
    "    colors = [cmap(i) for i in np.linspace(0, 1, (n-1))]\n",
    "    labels = pred_list_name\n",
    "    \n",
    "    if plot_accuracy == True:\n",
    "        fig, ax = plt.subplots()\n",
    "        pct_formatter = FuncFormatter(lambda x, pos: '{:.1f}'.format(x * 100))\n",
    "        ax.bar(np.arange((n)), accuracy_list, color=colors,tick_label=labels)\n",
    "        ax.set_ylim(0, 1)\n",
    "        ax.set_xlabel('Method', fontsize=13)\n",
    "        ax.set_ylabel('Accuracy on the test set (%)', fontsize=13)\n",
    "        ax.yaxis.set_major_formatter(pct_formatter)\n",
    "        for tick in ax.get_xticklabels():\n",
    "            tick.set_rotation(45)\n",
    "        plt.subplots_adjust(bottom=0.15)\n",
    "        plt.show()\n",
    "        \n",
    "    if plot_recall == True:\n",
    "        fig, ax = plt.subplots()\n",
    "        pct_formatter = FuncFormatter(lambda x, pos: '{:.1f}'.format(x * 100))\n",
    "        ax.bar(np.arange((n)), recall_list, color=colors,tick_label=labels)\n",
    "        ax.set_ylim(0.0, 1)\n",
    "        ax.set_xlabel('Method', fontsize=13)\n",
    "        ax.set_ylabel('Recall on the test set (%)', fontsize=13)\n",
    "        ax.yaxis.set_major_formatter(pct_formatter)\n",
    "        for tick in ax.get_xticklabels():\n",
    "            tick.set_rotation(45)\n",
    "        plt.subplots_adjust(bottom=0.15)\n",
    "        plt.show()\n",
    "        \n",
    "    if plot_f1 == True:\n",
    "        fig, ax = plt.subplots()\n",
    "        pct_formatter = FuncFormatter(lambda x, pos: '{:.1f}'.format(x * 100))\n",
    "        ax.bar(np.arange((n)), f1_list, color=colors,tick_label=labels)\n",
    "        ax.set_ylim(0.0, 1)\n",
    "        ax.set_xlabel('Method', fontsize=13)\n",
    "        ax.set_ylabel('F1 on the test set (%)', fontsize=13)\n",
    "        ax.yaxis.set_major_formatter(pct_formatter)\n",
    "        for tick in ax.get_xticklabels():\n",
    "            tick.set_rotation(45)\n",
    "        plt.subplots_adjust(bottom=0.15)\n",
    "        plt.show()\n",
    "        \n",
    "\n",
    "    return accuracy_dic, recall_dic, f1_dic"
   ]
  },
  {
   "cell_type": "code",
   "execution_count": 8,
   "id": "5ea71e1a",
   "metadata": {},
   "outputs": [],
   "source": [
    "def print_accuracy(accuracy_dic):\n",
    "    for key, value in accuracy_dic.items():\n",
    "        print(f'The accuracy performance of {key}: {value} ')\n",
    "        \n",
    "def print_recall(recall_dic):\n",
    "    for key, value in recall_dic.items():\n",
    "        print(f'The recall performance of {key}: {value} ')\n",
    "\n",
    "def print_f1(f1_dic):\n",
    "    for key, value in f1_dic.items():\n",
    "        print(f'The f1 performance of {key}: {value} ')\n"
   ]
  },
  {
   "cell_type": "markdown",
   "id": "e4acd4c3",
   "metadata": {},
   "source": [
    "### 4. Start to train - Deslib - AdaBoost\n",
    "\n",
    "In this part, the base ensemble method is Adaptive Boost, and the function deslib_process returns all the performance of DES models based on AdaBoost. Set True for the plots you want to see. For example, if you want to see the plot ot accuracy comparasion, set plot_accuracy = True.\n",
    "\n",
    "\"AdaBoostClassifier\" comes from sklearn."
   ]
  },
  {
   "cell_type": "code",
   "execution_count": 9,
   "id": "51d97254",
   "metadata": {},
   "outputs": [],
   "source": [
    "y = data_hot[['Attrition']]\n",
    "x = data_hot.drop(['Attrition'], axis = 1)\n",
    "\n",
    "x_train, x_test, y_train, y_test = train_test_split(x, y, test_size=0.3, random_state=7404)"
   ]
  },
  {
   "cell_type": "code",
   "execution_count": 10,
   "id": "efd0a6ab",
   "metadata": {},
   "outputs": [
    {
     "data": {
      "image/png": "[encoded data removed]",
      "text/plain": [
       "<Figure size 432x288 with 1 Axes>"
      ]
     },
     "metadata": {
      "needs_background": "light"
     },
     "output_type": "display_data"
    }
   ],
   "source": [
    "pool_classifiers = AdaBoostClassifier(DecisionTreeClassifier(max_depth=3),  \n",
    "                                      n_estimators=100, random_state=7404)\n",
    "pool_classifiers.fit(x_train, y_train.values.ravel())\n",
    "accuracy_dic, recall_dic, f1_dic = deslib_process(pool_classifiers, x_train, x_test, y_train, y_test, k = 6,\n",
    "                                            show_classification_report = False, show_confusion_matrix = False,\n",
    "                                            plot_accuracy = True, plot_recall = False, plot_f1 = False)"
   ]
  },
  {
   "cell_type": "code",
   "execution_count": 11,
   "id": "b4da83d4",
   "metadata": {
    "scrolled": true
   },
   "outputs": [
    {
     "name": "stdout",
     "output_type": "stream",
     "text": [
      "The accuracy performance of ORIGIN: 0.985 \n",
      "The accuracy performance of KNORAE: 0.988 \n",
      "The accuracy performance of DESP: 0.912 \n",
      "The accuracy performance of OLA : 0.987 \n",
      "The accuracy performance of Rank : 0.987 \n",
      "The accuracy performance of METADES: 0.995 \n"
     ]
    }
   ],
   "source": [
    "print_accuracy(accuracy_dic)  # You can extract the values and names in the format of dictionary"
   ]
  },
  {
   "cell_type": "code",
   "execution_count": 42,
   "id": "f7fdf409",
   "metadata": {
    "scrolled": true
   },
   "outputs": [
    {
     "data": {
      "image/png": "[encoded data removed]",
      "text/plain": [
       "<Figure size 432x288 with 1 Axes>"
      ]
     },
     "metadata": {
      "needs_background": "light"
     },
     "output_type": "display_data"
    }
   ],
   "source": [
    "pool_classifiers = AdaBoostClassifier(DecisionTreeClassifier(max_depth=3),  # max_depth selection is very important for deslib's enhencement\n",
    "                                      n_estimators=100, random_state=7404)\n",
    "pool_classifiers.fit(x_train, y_train.values.ravel())\n",
    "accuracy_dic, recall_dic, f1_dic = deslib_process(pool_classifiers, x_train, x_test, y_train, y_test, k = 6,\n",
    "                                            show_classification_report = False, show_confusion_matrix = False,\n",
    "                                            plot_accuracy = False, plot_recall = True, plot_f1 = False)"
   ]
  },
  {
   "cell_type": "code",
   "execution_count": 44,
   "id": "f63bd62c",
   "metadata": {
    "scrolled": true
   },
   "outputs": [
    {
     "name": "stdout",
     "output_type": "stream",
     "text": [
      "The recall performance of ORIGIN: 0.939 \n",
      "The recall performance of KNORAE: 0.939 \n",
      "The recall performance of DESP: 0.523 \n",
      "The recall performance of OLA : 0.949 \n",
      "The recall performance of Rank : 0.949 \n",
      "The recall performance of METADES: 0.967 \n"
     ]
    }
   ],
   "source": [
    "print_recall(recall_dic) "
   ]
  },
  {
   "cell_type": "code",
   "execution_count": 41,
   "id": "c435d8ff",
   "metadata": {
    "scrolled": false
   },
   "outputs": [
    {
     "data": {
      "image/png": "[encoded data removed]",
      "text/plain": [
       "<Figure size 432x288 with 1 Axes>"
      ]
     },
     "metadata": {
      "needs_background": "light"
     },
     "output_type": "display_data"
    }
   ],
   "source": [
    "pool_classifiers = AdaBoostClassifier(DecisionTreeClassifier(max_depth=3),  # max_depth selection is very important for deslib's enhencement\n",
    "                                      n_estimators=100, random_state=7404)\n",
    "pool_classifiers.fit(x_train, y_train.values.ravel())\n",
    "accuracy_dic, recall_dic, f1_dic = deslib_process(pool_classifiers, x_train, x_test, y_train, y_test, k = 6,\n",
    "                                            show_classification_report = False, show_confusion_matrix = False,\n",
    "                                            plot_accuracy = False, plot_recall = False, plot_f1 = True)"
   ]
  },
  {
   "cell_type": "code",
   "execution_count": 46,
   "id": "66f0529d",
   "metadata": {
    "scrolled": true
   },
   "outputs": [
    {
     "name": "stdout",
     "output_type": "stream",
     "text": [
      "The f1 performance of ORIGIN: 0.955 \n",
      "The f1 performance of KNORAE: 0.962 \n",
      "The f1 performance of DESP: 0.665 \n",
      "The f1 performance of OLA : 0.96 \n",
      "The f1 performance of Rank : 0.96 \n",
      "The f1 performance of METADES: 0.983 \n"
     ]
    }
   ],
   "source": [
    "# print_f1(f1_dic)\n",
    "print_f1(f1_dic) # You can extract the values and names in the format of dictionary"
   ]
  },
  {
   "cell_type": "markdown",
   "id": "05c0f02e",
   "metadata": {},
   "source": [
    "### 5. Start to train - Deslib - BaggingClassifier\n",
    "\n",
    "In this part, the base ensemble method is Bagging, and the function deslib_process returns all the performance of DES models based on Bagging Classifier. \n",
    "\n",
    "\"BaggingClassifier\" comes from sklearn."
   ]
  },
  {
   "cell_type": "code",
   "execution_count": 15,
   "id": "b8b12f0b",
   "metadata": {},
   "outputs": [
    {
     "name": "stdout",
     "output_type": "stream",
     "text": [
      "The classification_report of ORIGIN: \n",
      "              precision    recall  f1-score   support\n",
      "\n",
      "          No       0.99      1.00      0.99      1076\n",
      "         Yes       1.00      0.95      0.97       214\n",
      "\n",
      "    accuracy                           0.99      1290\n",
      "   macro avg       0.99      0.97      0.98      1290\n",
      "weighted avg       0.99      0.99      0.99      1290\n",
      "\n",
      "The classification_report of KNORAE: \n",
      "              precision    recall  f1-score   support\n",
      "\n",
      "          No       0.99      1.00      0.99      1076\n",
      "         Yes       1.00      0.95      0.97       214\n",
      "\n",
      "    accuracy                           0.99      1290\n",
      "   macro avg       0.99      0.97      0.98      1290\n",
      "weighted avg       0.99      0.99      0.99      1290\n",
      "\n",
      "The classification_report of DESP: \n",
      "              precision    recall  f1-score   support\n",
      "\n",
      "          No       0.99      1.00      0.99      1076\n",
      "         Yes       1.00      0.95      0.97       214\n",
      "\n",
      "    accuracy                           0.99      1290\n",
      "   macro avg       0.99      0.97      0.98      1290\n",
      "weighted avg       0.99      0.99      0.99      1290\n",
      "\n",
      "The classification_report of OLA : \n",
      "              precision    recall  f1-score   support\n",
      "\n",
      "          No       0.99      1.00      0.99      1076\n",
      "         Yes       0.99      0.96      0.97       214\n",
      "\n",
      "    accuracy                           0.99      1290\n",
      "   macro avg       0.99      0.98      0.98      1290\n",
      "weighted avg       0.99      0.99      0.99      1290\n",
      "\n",
      "The classification_report of Rank : \n",
      "              precision    recall  f1-score   support\n",
      "\n",
      "          No       0.99      1.00      0.99      1076\n",
      "         Yes       0.99      0.96      0.97       214\n",
      "\n",
      "    accuracy                           0.99      1290\n",
      "   macro avg       0.99      0.98      0.98      1290\n",
      "weighted avg       0.99      0.99      0.99      1290\n",
      "\n",
      "The classification_report of METADES: \n",
      "              precision    recall  f1-score   support\n",
      "\n",
      "          No       0.99      1.00      0.99      1076\n",
      "         Yes       1.00      0.95      0.97       214\n",
      "\n",
      "    accuracy                           0.99      1290\n",
      "   macro avg       0.99      0.97      0.98      1290\n",
      "weighted avg       0.99      0.99      0.99      1290\n",
      "\n"
     ]
    }
   ],
   "source": [
    "pool_classifiers = BaggingClassifier(n_estimators=100, random_state=7404)\n",
    "pool_classifiers.fit(x_train, y_train.values.ravel())\n",
    "accuracy_dic, recall_dic, f1_dic = deslib_process(pool_classifiers, x_train, x_test, y_train, y_test, k = 6,\n",
    "                                            show_classification_report = True, show_confusion_matrix = False,\n",
    "                                            plot_accuracy = False, plot_recall = False, plot_f1 = False)"
   ]
  },
  {
   "cell_type": "code",
   "execution_count": 52,
   "id": "76222cc1",
   "metadata": {
    "scrolled": true
   },
   "outputs": [
    {
     "data": {
      "image/png": "[encoded data removed]",
      "text/plain": [
       "<Figure size 432x288 with 1 Axes>"
      ]
     },
     "metadata": {
      "needs_background": "light"
     },
     "output_type": "display_data"
    }
   ],
   "source": [
    "pool_classifiers = BaggingClassifier(n_estimators=100, random_state=7404)\n",
    "pool_classifiers.fit(x_train, y_train.values.ravel())\n",
    "accuracy_dic, recall_dic, f1_dic = deslib_process(pool_classifiers, x_train, x_test, y_train, y_test, k = 6,\n",
    "                                            show_classification_report = False, show_confusion_matrix = False,\n",
    "                                            plot_accuracy = True, plot_recall = False, plot_f1 = False)"
   ]
  },
  {
   "cell_type": "code",
   "execution_count": 55,
   "id": "a41c8ca0",
   "metadata": {},
   "outputs": [
    {
     "name": "stdout",
     "output_type": "stream",
     "text": [
      "The accuracy performance of ORIGIN: 0.991 \n",
      "The accuracy performance of KNORAE: 0.991 \n",
      "The accuracy performance of DESP: 0.991 \n",
      "The accuracy performance of OLA : 0.991 \n",
      "The accuracy performance of Rank : 0.991 \n",
      "The accuracy performance of METADES: 0.991 \n"
     ]
    }
   ],
   "source": [
    "print_accuracy(accuracy_dic)"
   ]
  },
  {
   "cell_type": "code",
   "execution_count": 53,
   "id": "0569877f",
   "metadata": {},
   "outputs": [
    {
     "data": {
      "image/png": "[encoded data removed]",
      "text/plain": [
       "<Figure size 432x288 with 1 Axes>"
      ]
     },
     "metadata": {
      "needs_background": "light"
     },
     "output_type": "display_data"
    }
   ],
   "source": [
    "pool_classifiers = BaggingClassifier(n_estimators=100, random_state=7404)\n",
    "pool_classifiers.fit(x_train, y_train.values.ravel())\n",
    "accuracy_dic, recall_dic, f1_dic = deslib_process(pool_classifiers, x_train, x_test, y_train, y_test, k = 6,\n",
    "                                            show_classification_report = False, show_confusion_matrix = False,\n",
    "                                            plot_accuracy = False, plot_recall = True, plot_f1 = False)"
   ]
  },
  {
   "cell_type": "code",
   "execution_count": 56,
   "id": "c6e9811d",
   "metadata": {},
   "outputs": [
    {
     "name": "stdout",
     "output_type": "stream",
     "text": [
      "The recall performance of ORIGIN: 0.949 \n",
      "The recall performance of KNORAE: 0.949 \n",
      "The recall performance of DESP: 0.949 \n",
      "The recall performance of OLA : 0.963 \n",
      "The recall performance of Rank : 0.963 \n",
      "The recall performance of METADES: 0.949 \n"
     ]
    }
   ],
   "source": [
    "print_recall(recall_dic) "
   ]
  },
  {
   "cell_type": "code",
   "execution_count": 54,
   "id": "e3300dd9",
   "metadata": {
    "scrolled": true
   },
   "outputs": [
    {
     "data": {
      "image/png": "[encoded data removed]",
      "text/plain": [
       "<Figure size 432x288 with 1 Axes>"
      ]
     },
     "metadata": {
      "needs_background": "light"
     },
     "output_type": "display_data"
    }
   ],
   "source": [
    "pool_classifiers = BaggingClassifier(n_estimators=100, random_state=7404)\n",
    "pool_classifiers.fit(x_train, y_train.values.ravel())\n",
    "accuracy_dic, recall_dic, f1_dic = deslib_process(pool_classifiers, x_train, x_test, y_train, y_test, k = 6,\n",
    "                                            show_classification_report = False, show_confusion_matrix = False,\n",
    "                                            plot_accuracy = False, plot_recall = False, plot_f1 = True)"
   ]
  },
  {
   "cell_type": "code",
   "execution_count": 16,
   "id": "05f8795e",
   "metadata": {},
   "outputs": [
    {
     "name": "stdout",
     "output_type": "stream",
     "text": [
      "The f1 performance of ORIGIN: 0.974 \n",
      "The f1 performance of KNORAE: 0.974 \n",
      "The f1 performance of DESP: 0.974 \n",
      "The f1 performance of OLA : 0.974 \n",
      "The f1 performance of Rank : 0.974 \n",
      "The f1 performance of METADES: 0.974 \n"
     ]
    }
   ],
   "source": [
    "print_f1(f1_dic)"
   ]
  },
  {
   "cell_type": "markdown",
   "id": "1f4c3294",
   "metadata": {},
   "source": [
    "### 6. Start to train - Random Forest\n",
    "\n",
    "In this part, the base ensemble method is Random Forest, and the function deslib_process returns all the performance of DES models based on Random Forest Classifier. \n",
    "\n",
    "\"RandomForestClassifier\" comes from sklearn."
   ]
  },
  {
   "cell_type": "code",
   "execution_count": 48,
   "id": "964e5421",
   "metadata": {},
   "outputs": [
    {
     "data": {
      "image/png": "[encoded data removed]",
      "text/plain": [
       "<Figure size 432x288 with 1 Axes>"
      ]
     },
     "metadata": {
      "needs_background": "light"
     },
     "output_type": "display_data"
    }
   ],
   "source": [
    "pool_classifiers = RandomForestClassifier(n_estimators=100, random_state=7404)\n",
    "pool_classifiers.fit(x_train, y_train.values.ravel())\n",
    "accuracy_dic, recall_dic, f1_dic = deslib_process(pool_classifiers, x_train, x_test, y_train, y_test, k = 6,\n",
    "                                            show_classification_report = False, show_confusion_matrix = False,\n",
    "                                            plot_accuracy = True, plot_recall = False, plot_f1 = False)"
   ]
  },
  {
   "cell_type": "code",
   "execution_count": 51,
   "id": "b85406b7",
   "metadata": {
    "scrolled": true
   },
   "outputs": [
    {
     "name": "stdout",
     "output_type": "stream",
     "text": [
      "The accuracy performance of ORIGIN: 0.991 \n",
      "The accuracy performance of KNORAE: 0.991 \n",
      "The accuracy performance of DESP: 0.991 \n",
      "The accuracy performance of OLA : 0.983 \n",
      "The accuracy performance of Rank : 0.983 \n",
      "The accuracy performance of METADES: 0.991 \n"
     ]
    }
   ],
   "source": [
    "print_accuracy(accuracy_dic)"
   ]
  },
  {
   "cell_type": "code",
   "execution_count": 49,
   "id": "24cb7c80",
   "metadata": {},
   "outputs": [
    {
     "data": {
      "image/png": "[encoded data removed]",
      "text/plain": [
       "<Figure size 432x288 with 1 Axes>"
      ]
     },
     "metadata": {
      "needs_background": "light"
     },
     "output_type": "display_data"
    }
   ],
   "source": [
    "pool_classifiers = RandomForestClassifier(n_estimators=100, random_state=7404)\n",
    "pool_classifiers.fit(x_train, y_train.values.ravel())\n",
    "accuracy_dic, recall_dic, f1_dic = deslib_process(pool_classifiers, x_train, x_test, y_train, y_test, k = 6,\n",
    "                                            show_classification_report = False, show_confusion_matrix = False,\n",
    "                                            plot_accuracy = False, plot_recall = True, plot_f1 = False)"
   ]
  },
  {
   "cell_type": "code",
   "execution_count": 50,
   "id": "3150c4b5",
   "metadata": {
    "scrolled": true
   },
   "outputs": [
    {
     "name": "stdout",
     "output_type": "stream",
     "text": [
      "The recall performance of ORIGIN: 0.949 \n",
      "The recall performance of KNORAE: 0.949 \n",
      "The recall performance of DESP: 0.949 \n",
      "The recall performance of OLA : 0.981 \n",
      "The recall performance of Rank : 0.981 \n",
      "The recall performance of METADES: 0.949 \n"
     ]
    }
   ],
   "source": [
    "print_recall(recall_dic) "
   ]
  },
  {
   "cell_type": "code",
   "execution_count": 17,
   "id": "0dd2279b",
   "metadata": {},
   "outputs": [
    {
     "data": {
      "image/png": "[encoded data removed]",
      "text/plain": [
       "<Figure size 432x288 with 1 Axes>"
      ]
     },
     "metadata": {
      "needs_background": "light"
     },
     "output_type": "display_data"
    }
   ],
   "source": [
    "pool_classifiers = RandomForestClassifier(n_estimators=100, random_state=7404)\n",
    "pool_classifiers.fit(x_train, y_train.values.ravel())\n",
    "accuracy_dic, recall_dic, f1_dic = deslib_process(pool_classifiers, x_train, x_test, y_train, y_test, k = 6,\n",
    "                                            show_classification_report = False, show_confusion_matrix = False,\n",
    "                                            plot_accuracy = False, plot_recall = False, plot_f1 = True)"
   ]
  },
  {
   "cell_type": "code",
   "execution_count": 18,
   "id": "5926f2b0",
   "metadata": {},
   "outputs": [
    {
     "name": "stdout",
     "output_type": "stream",
     "text": [
      "The f1 performance of ORIGIN: 0.974 \n",
      "The f1 performance of KNORAE: 0.974 \n",
      "The f1 performance of DESP: 0.974 \n",
      "The f1 performance of OLA : 0.95 \n",
      "The f1 performance of Rank : 0.95 \n",
      "The f1 performance of METADES: 0.974 \n"
     ]
    }
   ],
   "source": [
    "print_f1(f1_dic)"
   ]
  },
  {
   "cell_type": "markdown",
   "id": "bf6d6607",
   "metadata": {},
   "source": [
    "### 7. Start to train - Neural Network\n",
    "\n",
    "Run the code subsequently and everything should be out of trouble.\n",
    "\n",
    "Notice that we re-define the input data here so as to fit the format of the Neural Network. The output layer only consists of one node, generated by sigmoid function, so we only extract the value Attrition == Yes or No (map to 1 or 0).\n",
    "\n",
    "Also notice that the result may be different everytime, because there is randomness in Neural Network.(IMPORTANT, might be different with the result shown in our presentation.)"
   ]
  },
  {
   "cell_type": "code",
   "execution_count": 21,
   "id": "4d88c832",
   "metadata": {},
   "outputs": [],
   "source": [
    "y = data_hot[['Attrition']]\n",
    "x = data_hot.drop(['Attrition'], axis = 1)\n",
    "\n",
    "x_train, x_test, y_train, y_test = train_test_split(x, y, test_size=0.3, random_state=7404)"
   ]
  },
  {
   "cell_type": "code",
   "execution_count": 22,
   "id": "e18a18b1",
   "metadata": {},
   "outputs": [],
   "source": [
    "scaler = MinMaxScaler(feature_range=(0,1))     # Min Max Scaling is very important in DNN\n",
    "x_train = pd.DataFrame(scaler.fit_transform(np.array(x_train)))\n",
    "x_test = pd.DataFrame(scaler.fit_transform(x_test))"
   ]
  },
  {
   "cell_type": "code",
   "execution_count": 23,
   "id": "172dac0b",
   "metadata": {},
   "outputs": [],
   "source": [
    "y_train = pd.get_dummies(y_train)[['Attrition_Yes']]\n",
    "y_test = pd.get_dummies(y_test)[['Attrition_Yes']]   # get dummy, only one output"
   ]
  },
  {
   "cell_type": "code",
   "execution_count": 24,
   "id": "232ea499",
   "metadata": {},
   "outputs": [],
   "source": [
    "input_shape = x_train.shape[1] # 46"
   ]
  },
  {
   "cell_type": "code",
   "execution_count": 25,
   "id": "054d0233",
   "metadata": {},
   "outputs": [],
   "source": [
    "network = models.Sequential()\n",
    "network.add(layers.Dense(512, activation = 'relu', input_shape = (input_shape,)))\n",
    "network.add(layers.Dense(256, activation = 'relu'))\n",
    "network.add(layers.Dense(128, activation = 'relu'))\n",
    "network.add(layers.Dense(1, activation = 'sigmoid')) # output layer\n",
    "network.compile(optimizer = 'adam', loss = losses.binary_crossentropy, metrics = ['accuracy'])"
   ]
  },
  {
   "cell_type": "code",
   "execution_count": 26,
   "id": "e57ef82d",
   "metadata": {},
   "outputs": [
    {
     "name": "stdout",
     "output_type": "stream",
     "text": [
      "Epoch 1/100\n",
      "24/24 [==============================] - 0s 2ms/step - loss: 0.4535 - accuracy: 0.8169\n",
      "Epoch 2/100\n",
      "24/24 [==============================] - 0s 2ms/step - loss: 0.3900 - accuracy: 0.8402\n",
      "Epoch 3/100\n",
      "24/24 [==============================] - 0s 2ms/step - loss: 0.3571 - accuracy: 0.8545\n",
      "Epoch 4/100\n",
      "24/24 [==============================] - 0s 2ms/step - loss: 0.3203 - accuracy: 0.8754\n",
      "Epoch 5/100\n",
      "24/24 [==============================] - 0s 2ms/step - loss: 0.2736 - accuracy: 0.8887\n",
      "Epoch 6/100\n",
      "24/24 [==============================] - 0s 2ms/step - loss: 0.2179 - accuracy: 0.9209\n",
      "Epoch 7/100\n",
      "24/24 [==============================] - 0s 2ms/step - loss: 0.1739 - accuracy: 0.9282\n",
      "Epoch 8/100\n",
      "24/24 [==============================] - 0s 2ms/step - loss: 0.1246 - accuracy: 0.9608\n",
      "Epoch 9/100\n",
      "24/24 [==============================] - 0s 2ms/step - loss: 0.0884 - accuracy: 0.9748\n",
      "Epoch 10/100\n",
      "24/24 [==============================] - 0s 2ms/step - loss: 0.0605 - accuracy: 0.9834\n",
      "Epoch 11/100\n",
      "24/24 [==============================] - 0s 2ms/step - loss: 0.0612 - accuracy: 0.9807\n",
      "Epoch 12/100\n",
      "24/24 [==============================] - 0s 2ms/step - loss: 0.0564 - accuracy: 0.9801\n",
      "Epoch 13/100\n",
      "24/24 [==============================] - 0s 2ms/step - loss: 0.0267 - accuracy: 0.9944\n",
      "Epoch 14/100\n",
      "24/24 [==============================] - 0s 2ms/step - loss: 0.0116 - accuracy: 0.9987\n",
      "Epoch 15/100\n",
      "24/24 [==============================] - 0s 2ms/step - loss: 0.0065 - accuracy: 0.9990\n",
      "Epoch 16/100\n",
      "24/24 [==============================] - 0s 2ms/step - loss: 0.0065 - accuracy: 0.9990\n",
      "Epoch 17/100\n",
      "24/24 [==============================] - 0s 3ms/step - loss: 0.0040 - accuracy: 0.9993\n",
      "Epoch 18/100\n",
      "24/24 [==============================] - 0s 2ms/step - loss: 0.0037 - accuracy: 0.9993\n",
      "Epoch 19/100\n",
      "24/24 [==============================] - 0s 2ms/step - loss: 0.0069 - accuracy: 0.9980\n",
      "Epoch 20/100\n",
      "24/24 [==============================] - 0s 2ms/step - loss: 0.0126 - accuracy: 0.9983\n",
      "Epoch 21/100\n",
      "24/24 [==============================] - 0s 3ms/step - loss: 0.0048 - accuracy: 0.9990\n",
      "Epoch 22/100\n",
      "24/24 [==============================] - 0s 2ms/step - loss: 0.0016 - accuracy: 1.0000\n",
      "Epoch 23/100\n",
      "24/24 [==============================] - 0s 3ms/step - loss: 0.0010 - accuracy: 1.0000\n",
      "Epoch 24/100\n",
      "24/24 [==============================] - 0s 3ms/step - loss: 6.2506e-04 - accuracy: 1.0000\n",
      "Epoch 25/100\n",
      "24/24 [==============================] - 0s 2ms/step - loss: 5.2419e-04 - accuracy: 1.0000\n",
      "Epoch 26/100\n",
      "24/24 [==============================] - 0s 2ms/step - loss: 4.4139e-04 - accuracy: 1.0000\n",
      "Epoch 27/100\n",
      "24/24 [==============================] - 0s 2ms/step - loss: 3.9050e-04 - accuracy: 1.0000\n",
      "Epoch 28/100\n",
      "24/24 [==============================] - 0s 2ms/step - loss: 3.5162e-04 - accuracy: 1.0000\n",
      "Epoch 29/100\n",
      "24/24 [==============================] - 0s 2ms/step - loss: 3.1449e-04 - accuracy: 1.0000\n",
      "Epoch 30/100\n",
      "24/24 [==============================] - 0s 2ms/step - loss: 2.8825e-04 - accuracy: 1.0000\n",
      "Epoch 31/100\n",
      "24/24 [==============================] - 0s 2ms/step - loss: 2.6456e-04 - accuracy: 1.0000\n",
      "Epoch 32/100\n",
      "24/24 [==============================] - 0s 2ms/step - loss: 2.3981e-04 - accuracy: 1.0000\n",
      "Epoch 33/100\n",
      "24/24 [==============================] - 0s 2ms/step - loss: 2.2177e-04 - accuracy: 1.0000\n",
      "Epoch 34/100\n",
      "24/24 [==============================] - 0s 3ms/step - loss: 2.0497e-04 - accuracy: 1.0000\n",
      "Epoch 35/100\n",
      "24/24 [==============================] - 0s 2ms/step - loss: 1.9114e-04 - accuracy: 1.0000\n",
      "Epoch 36/100\n",
      "24/24 [==============================] - 0s 2ms/step - loss: 1.7696e-04 - accuracy: 1.0000\n",
      "Epoch 37/100\n",
      "24/24 [==============================] - 0s 2ms/step - loss: 1.6540e-04 - accuracy: 1.0000\n",
      "Epoch 38/100\n",
      "24/24 [==============================] - 0s 2ms/step - loss: 1.5439e-04 - accuracy: 1.0000\n",
      "Epoch 39/100\n",
      "24/24 [==============================] - 0s 2ms/step - loss: 1.4397e-04 - accuracy: 1.0000\n",
      "Epoch 40/100\n",
      "24/24 [==============================] - 0s 2ms/step - loss: 1.3621e-04 - accuracy: 1.0000\n",
      "Epoch 41/100\n",
      "24/24 [==============================] - 0s 2ms/step - loss: 1.2792e-04 - accuracy: 1.0000\n",
      "Epoch 42/100\n",
      "24/24 [==============================] - 0s 2ms/step - loss: 1.1530e-04 - accuracy: 1.0000\n",
      "Epoch 43/100\n",
      "24/24 [==============================] - 0s 2ms/step - loss: 9.9592e-05 - accuracy: 1.0000\n",
      "Epoch 44/100\n",
      "24/24 [==============================] - 0s 2ms/step - loss: 8.9087e-05 - accuracy: 1.0000\n",
      "Epoch 45/100\n",
      "24/24 [==============================] - 0s 2ms/step - loss: 7.9295e-05 - accuracy: 1.0000\n",
      "Epoch 46/100\n",
      "24/24 [==============================] - 0s 2ms/step - loss: 7.2545e-05 - accuracy: 1.0000\n",
      "Epoch 47/100\n",
      "24/24 [==============================] - 0s 2ms/step - loss: 6.3745e-05 - accuracy: 1.0000\n",
      "Epoch 48/100\n",
      "24/24 [==============================] - 0s 2ms/step - loss: 5.6183e-05 - accuracy: 1.0000\n",
      "Epoch 49/100\n",
      "24/24 [==============================] - 0s 2ms/step - loss: 5.0167e-05 - accuracy: 1.0000\n",
      "Epoch 50/100\n",
      "24/24 [==============================] - 0s 2ms/step - loss: 4.5205e-05 - accuracy: 1.0000\n",
      "Epoch 51/100\n",
      "24/24 [==============================] - 0s 2ms/step - loss: 4.1083e-05 - accuracy: 1.0000\n",
      "Epoch 52/100\n",
      "24/24 [==============================] - 0s 2ms/step - loss: 3.7850e-05 - accuracy: 1.0000\n",
      "Epoch 53/100\n",
      "24/24 [==============================] - 0s 2ms/step - loss: 3.4360e-05 - accuracy: 1.0000\n",
      "Epoch 54/100\n",
      "24/24 [==============================] - 0s 2ms/step - loss: 3.0935e-05 - accuracy: 1.0000\n",
      "Epoch 55/100\n",
      "24/24 [==============================] - 0s 2ms/step - loss: 2.8084e-05 - accuracy: 1.0000\n",
      "Epoch 56/100\n",
      "24/24 [==============================] - 0s 2ms/step - loss: 2.5659e-05 - accuracy: 1.0000\n",
      "Epoch 57/100\n",
      "24/24 [==============================] - 0s 2ms/step - loss: 2.3720e-05 - accuracy: 1.0000\n",
      "Epoch 58/100\n",
      "24/24 [==============================] - 0s 2ms/step - loss: 2.2056e-05 - accuracy: 1.0000\n",
      "Epoch 59/100\n",
      "24/24 [==============================] - 0s 2ms/step - loss: 2.0042e-05 - accuracy: 1.0000\n",
      "Epoch 60/100\n",
      "24/24 [==============================] - 0s 2ms/step - loss: 1.8515e-05 - accuracy: 1.0000\n",
      "Epoch 61/100\n",
      "24/24 [==============================] - 0s 2ms/step - loss: 1.7335e-05 - accuracy: 1.0000\n",
      "Epoch 62/100\n",
      "24/24 [==============================] - 0s 2ms/step - loss: 1.6249e-05 - accuracy: 1.0000\n",
      "Epoch 63/100\n",
      "24/24 [==============================] - 0s 2ms/step - loss: 1.5205e-05 - accuracy: 1.0000\n",
      "Epoch 64/100\n",
      "24/24 [==============================] - 0s 2ms/step - loss: 1.4241e-05 - accuracy: 1.0000\n",
      "Epoch 65/100\n",
      "24/24 [==============================] - 0s 2ms/step - loss: 1.3279e-05 - accuracy: 1.0000\n",
      "Epoch 66/100\n",
      "24/24 [==============================] - 0s 2ms/step - loss: 1.2518e-05 - accuracy: 1.0000\n",
      "Epoch 67/100\n",
      "24/24 [==============================] - 0s 2ms/step - loss: 1.2013e-05 - accuracy: 1.0000\n",
      "Epoch 68/100\n",
      "24/24 [==============================] - 0s 3ms/step - loss: 1.1246e-05 - accuracy: 1.0000\n",
      "Epoch 69/100\n",
      "24/24 [==============================] - 0s 3ms/step - loss: 1.0575e-05 - accuracy: 1.0000\n",
      "Epoch 70/100\n",
      "24/24 [==============================] - 0s 3ms/step - loss: 1.0017e-05 - accuracy: 1.0000\n",
      "Epoch 71/100\n",
      "24/24 [==============================] - 0s 2ms/step - loss: 9.5647e-06 - accuracy: 1.0000\n",
      "Epoch 72/100\n",
      "24/24 [==============================] - 0s 2ms/step - loss: 9.0528e-06 - accuracy: 1.0000\n",
      "Epoch 73/100\n",
      "24/24 [==============================] - 0s 2ms/step - loss: 8.5939e-06 - accuracy: 1.0000\n",
      "Epoch 74/100\n",
      "24/24 [==============================] - 0s 2ms/step - loss: 8.2195e-06 - accuracy: 1.0000\n",
      "Epoch 75/100\n",
      "24/24 [==============================] - 0s 2ms/step - loss: 7.7951e-06 - accuracy: 1.0000\n",
      "Epoch 76/100\n",
      "24/24 [==============================] - 0s 2ms/step - loss: 7.4482e-06 - accuracy: 1.0000\n",
      "Epoch 77/100\n",
      "24/24 [==============================] - 0s 2ms/step - loss: 7.1485e-06 - accuracy: 1.0000\n",
      "Epoch 78/100\n",
      "24/24 [==============================] - 0s 2ms/step - loss: 6.8589e-06 - accuracy: 1.0000\n",
      "Epoch 79/100\n",
      "24/24 [==============================] - 0s 2ms/step - loss: 6.5271e-06 - accuracy: 1.0000\n",
      "Epoch 80/100\n",
      "24/24 [==============================] - 0s 2ms/step - loss: 6.2445e-06 - accuracy: 1.0000\n",
      "Epoch 81/100\n",
      "24/24 [==============================] - 0s 2ms/step - loss: 6.0181e-06 - accuracy: 1.0000\n",
      "Epoch 82/100\n",
      "24/24 [==============================] - 0s 2ms/step - loss: 5.8244e-06 - accuracy: 1.0000\n",
      "Epoch 83/100\n",
      "24/24 [==============================] - 0s 2ms/step - loss: 5.5569e-06 - accuracy: 1.0000\n",
      "Epoch 84/100\n",
      "24/24 [==============================] - 0s 2ms/step - loss: 5.3512e-06 - accuracy: 1.0000\n",
      "Epoch 85/100\n",
      "24/24 [==============================] - 0s 2ms/step - loss: 5.1361e-06 - accuracy: 1.0000\n",
      "Epoch 86/100\n",
      "24/24 [==============================] - 0s 2ms/step - loss: 4.9502e-06 - accuracy: 1.0000\n",
      "Epoch 87/100\n",
      "24/24 [==============================] - 0s 2ms/step - loss: 4.7664e-06 - accuracy: 1.0000\n",
      "Epoch 88/100\n",
      "24/24 [==============================] - 0s 2ms/step - loss: 4.6003e-06 - accuracy: 1.0000\n",
      "Epoch 89/100\n",
      "24/24 [==============================] - 0s 2ms/step - loss: 4.4620e-06 - accuracy: 1.0000\n",
      "Epoch 90/100\n",
      "24/24 [==============================] - 0s 2ms/step - loss: 4.3132e-06 - accuracy: 1.0000\n",
      "Epoch 91/100\n",
      "24/24 [==============================] - 0s 2ms/step - loss: 4.1391e-06 - accuracy: 1.0000\n",
      "Epoch 92/100\n",
      "24/24 [==============================] - 0s 2ms/step - loss: 4.0315e-06 - accuracy: 1.0000\n",
      "Epoch 93/100\n",
      "24/24 [==============================] - 0s 2ms/step - loss: 3.8612e-06 - accuracy: 1.0000\n",
      "Epoch 94/100\n",
      "24/24 [==============================] - 0s 2ms/step - loss: 3.7544e-06 - accuracy: 1.0000\n",
      "Epoch 95/100\n",
      "24/24 [==============================] - 0s 2ms/step - loss: 3.6341e-06 - accuracy: 1.0000\n",
      "Epoch 96/100\n",
      "24/24 [==============================] - 0s 2ms/step - loss: 3.5052e-06 - accuracy: 1.0000\n",
      "Epoch 97/100\n",
      "24/24 [==============================] - 0s 2ms/step - loss: 3.3908e-06 - accuracy: 1.0000\n",
      "Epoch 98/100\n",
      "24/24 [==============================] - 0s 2ms/step - loss: 3.2948e-06 - accuracy: 1.0000\n",
      "Epoch 99/100\n",
      "24/24 [==============================] - 0s 2ms/step - loss: 3.1904e-06 - accuracy: 1.0000\n",
      "Epoch 100/100\n",
      "24/24 [==============================] - 0s 2ms/step - loss: 3.0936e-06 - accuracy: 1.0000\n"
     ]
    },
    {
     "data": {
      "text/plain": [
       "<keras.callbacks.History at 0x22d0cceb5e0>"
      ]
     },
     "execution_count": 26,
     "metadata": {},
     "output_type": "execute_result"
    }
   ],
   "source": [
    "network.fit(x_train, y_train, epochs = 100, batch_size = 128)"
   ]
  },
  {
   "cell_type": "code",
   "execution_count": 27,
   "id": "b023ef5e",
   "metadata": {},
   "outputs": [
    {
     "name": "stdout",
     "output_type": "stream",
     "text": [
      "41/41 [==============================] - 0s 1ms/step - loss: 0.0680 - accuracy: 0.9930\n"
     ]
    }
   ],
   "source": [
    "test_loss, test_acc = network.evaluate(x_test, y_test)"
   ]
  },
  {
   "cell_type": "code",
   "execution_count": 28,
   "id": "d39a1227",
   "metadata": {},
   "outputs": [
    {
     "name": "stdout",
     "output_type": "stream",
     "text": [
      "              precision    recall  f1-score   support\n",
      "\n",
      "           0       0.99      1.00      0.99      1076\n",
      "           1       1.00      0.95      0.97       214\n",
      "\n",
      "    accuracy                           0.99      1290\n",
      "   macro avg       0.99      0.97      0.98      1290\n",
      "weighted avg       0.99      0.99      0.99      1290\n",
      "\n"
     ]
    },
    {
     "data": {
      "image/png": "[encoded data removed]",
      "text/plain": [
       "<Figure size 432x288 with 2 Axes>"
      ]
     },
     "metadata": {
      "needs_background": "light"
     },
     "output_type": "display_data"
    }
   ],
   "source": [
    "pred_y_test = pd.DataFrame(np.around(network.predict(x_test), 1).astype(int)).reset_index(drop=True)\n",
    "real_y_test = y_test.reset_index(drop=True)\n",
    "\n",
    "print(classification_report(real_y_test, pred_y_test))\n",
    "# confusion matrix visualization\n",
    "ConfusionMatrixDisplay.from_predictions(real_y_test, pred_y_test)\n",
    "plt.show()"
   ]
  },
  {
   "cell_type": "code",
   "execution_count": 27,
   "id": "77a18930",
   "metadata": {},
   "outputs": [
    {
     "name": "stdout",
     "output_type": "stream",
     "text": [
      "The accuracy performance of DNN: 0.993 \n",
      "The recall performance of DNN: 0.958 \n",
      "The f1 performance of DNN: 0.979 \n"
     ]
    }
   ],
   "source": [
    "print(f'The accuracy performance of DNN: {np.round(accuracy_score(real_y_test, pred_y_test), 3)} ')\n",
    "print(f'The recall performance of DNN: {np.round(recall_score(real_y_test, pred_y_test), 3)} ')\n",
    "print(f'The f1 performance of DNN: {np.round(f1_score(real_y_test, pred_y_test), 3)} ')"
   ]
  },
  {
   "cell_type": "markdown",
   "id": "ae1e41bc",
   "metadata": {},
   "source": [
    "### 8. SVM\n",
    "\n",
    "Run the code subsequently and everything should be out of trouble.\n",
    "\n",
    "The block of grid_search might take some time but don't worry."
   ]
  },
  {
   "cell_type": "code",
   "execution_count": 29,
   "id": "da1de0ad",
   "metadata": {},
   "outputs": [],
   "source": [
    "y = data_hot[['Attrition']]\n",
    "x = data_hot.drop(['Attrition'], axis = 1)\n",
    "\n",
    "x_train, x_test, y_train, y_test = train_test_split(x, y, test_size=0.3, random_state=7404)"
   ]
  },
  {
   "cell_type": "code",
   "execution_count": 30,
   "id": "657c00ce",
   "metadata": {},
   "outputs": [],
   "source": [
    "scaler = MinMaxScaler(feature_range=(0,1))\n",
    "x_train = pd.DataFrame(scaler.fit_transform(np.array(x_train)))\n",
    "x_test = pd.DataFrame(scaler.fit_transform(x_test))"
   ]
  },
  {
   "cell_type": "code",
   "execution_count": 31,
   "id": "64c04124",
   "metadata": {},
   "outputs": [],
   "source": [
    "y_train = pd.get_dummies(y_train)[['Attrition_Yes']]\n",
    "y_test = pd.get_dummies(y_test)[['Attrition_Yes']]   # get dummy, only one output"
   ]
  },
  {
   "cell_type": "code",
   "execution_count": 32,
   "id": "9a1a8141",
   "metadata": {},
   "outputs": [
    {
     "data": {
      "text/plain": [
       "{'C': 1.0, 'gamma': 10.0}"
      ]
     },
     "execution_count": 32,
     "metadata": {},
     "output_type": "execute_result"
    }
   ],
   "source": [
    "tuned_parameters = [{'C': np.logspace(-3, 3, 7),\n",
    "                     'gamma': np.logspace(-3, 3, 7)}]\n",
    "model = GridSearchCV(SVC(kernel='rbf'), tuned_parameters, cv=5)\n",
    "model.fit(x_train, y_train.values.ravel())\n",
    "model.best_params_"
   ]
  },
  {
   "cell_type": "code",
   "execution_count": 33,
   "id": "6e6b954b",
   "metadata": {},
   "outputs": [],
   "source": [
    "pred_y_test = pd.DataFrame(model.predict(x_test)).reset_index(drop=True)\n",
    "real_y_test = y_test.reset_index(drop=True)"
   ]
  },
  {
   "cell_type": "code",
   "execution_count": 34,
   "id": "e76b8d28",
   "metadata": {},
   "outputs": [
    {
     "name": "stdout",
     "output_type": "stream",
     "text": [
      "The accuracy performance of DNN: 0.99 \n",
      "The recall performance of DNN: 0.939 \n",
      "The f1 performance of DNN: 0.969 \n"
     ]
    }
   ],
   "source": [
    "print(f'The accuracy performance of DNN: {np.round(accuracy_score(real_y_test, pred_y_test), 3)} ')\n",
    "print(f'The recall performance of DNN: {np.round(recall_score(real_y_test, pred_y_test), 3)} ')\n",
    "print(f'The f1 performance of DNN: {np.round(f1_score(real_y_test, pred_y_test), 3)} ')"
   ]
  },
  {
   "cell_type": "code",
   "execution_count": 35,
   "id": "d511bca2",
   "metadata": {},
   "outputs": [
    {
     "name": "stdout",
     "output_type": "stream",
     "text": [
      "              precision    recall  f1-score   support\n",
      "\n",
      "           0       0.99      1.00      0.99      1076\n",
      "           1       1.00      0.94      0.97       214\n",
      "\n",
      "    accuracy                           0.99      1290\n",
      "   macro avg       0.99      0.97      0.98      1290\n",
      "weighted avg       0.99      0.99      0.99      1290\n",
      "\n"
     ]
    },
    {
     "data": {
      "image/png": "[encoded data removed]",
      "text/plain": [
       "<Figure size 432x288 with 2 Axes>"
      ]
     },
     "metadata": {
      "needs_background": "light"
     },
     "output_type": "display_data"
    }
   ],
   "source": [
    "print(classification_report(real_y_test, pred_y_test))\n",
    "# confusion matrix visualization\n",
    "ConfusionMatrixDisplay.from_predictions(real_y_test, pred_y_test)\n",
    "plt.show()"
   ]
  },
  {
   "cell_type": "code",
   "execution_count": null,
   "id": "4a4b887c",
   "metadata": {},
   "outputs": [],
   "source": []
  },
  {
   "cell_type": "code",
   "execution_count": null,
   "id": "27a22532",
   "metadata": {},
   "outputs": [],
   "source": []
  },
  {
   "cell_type": "code",
   "execution_count": null,
   "id": "6411fe41",
   "metadata": {},
   "outputs": [],
   "source": []
  },
  {
   "cell_type": "code",
   "execution_count": null,
   "id": "924993e4",
   "metadata": {},
   "outputs": [],
   "source": []
  }
 ],
 "metadata": {
  "kernelspec": {
   "display_name": "Python 3 (ipykernel)",
   "language": "python",
   "name": "python3"
  },
  "language_info": {
   "codemirror_mode": {
    "name": "ipython",
    "version": 3
   },
   "file_extension": ".py",
   "mimetype": "text/x-python",
   "name": "python",
   "nbconvert_exporter": "python",
   "pygments_lexer": "ipython3",
   "version": "3.9.7"
  }
 },
 "nbformat": 4,
 "nbformat_minor": 5
}
